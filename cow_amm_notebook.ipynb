{
 "cells": [
  {
   "cell_type": "code",
   "execution_count": null,
   "metadata": {},
   "outputs": [],
   "source": [
    "import polars as pl\n",
    "import numpy as np\n",
    "import holoviews as hv\n",
    "from time import time\n",
    "\n",
    "from cow_amm_trades import compute_cow_amm_trades\n",
    "from balancer_pool_states import compute_balancer_pool_states\n",
    "from coingecko import get_historical_token_price\n",
    "from dataframes import (\n",
    "    states_to_df,\n",
    "    prices_to_df,\n",
    "    combine_with_prices,\n",
    "    plot_profit_vs_holding,\n",
    "    compute_profit_vs_holding_apy,\n",
    ")\n",
    "from constants import (\n",
    "    TOKEN0,\n",
    "    TOKEN1,\n",
    "    TOKEN0_COINGECKO,\n",
    "    TOKEN1_COINGECKO,\n",
    ")"
   ]
  },
  {
   "cell_type": "code",
   "execution_count": null,
   "metadata": {},
   "outputs": [],
   "source": [
    "cow_amm_states = compute_cow_amm_trades()\n",
    "balancer_pool_states = compute_balancer_pool_states()"
   ]
  },
  {
   "cell_type": "code",
   "execution_count": null,
   "metadata": {},
   "outputs": [],
   "source": [
    "df_cow = states_to_df(cow_amm_states)\n",
    "df_balancer = states_to_df(balancer_pool_states)"
   ]
  },
  {
   "cell_type": "code",
   "execution_count": null,
   "metadata": {},
   "outputs": [],
   "source": [
    "token0_prices = get_historical_token_price(TOKEN0_COINGECKO)\n",
    "token1_prices = get_historical_token_price(TOKEN1_COINGECKO)\n",
    "token0_price_in_eth = get_historical_token_price(TOKEN0_COINGECKO, currency=\"eth\")\n",
    "token1_price_in_eth = get_historical_token_price(TOKEN1_COINGECKO, currency=\"eth\")\n",
    "\n",
    "df_token0_prices = prices_to_df(token0_prices)\n",
    "df_token1_prices = prices_to_df(token1_prices)\n",
    "df_token0_prices_in_eth = prices_to_df(token0_price_in_eth)\n",
    "df_token1_prices_in_eth = prices_to_df(token1_price_in_eth)"
   ]
  },
  {
   "cell_type": "code",
   "execution_count": null,
   "metadata": {},
   "outputs": [],
   "source": [
    "from constants import START_TIME\n",
    "from constants import START_TIME, PROTOCOL_FEE_WEI\n",
    "\n",
    "time_now = time()\n",
    "df_cow_filtered = df_cow.filter(pl.col(\"time\") >= START_TIME)\n",
    "df_balancer_filtered = df_balancer.filter(pl.col(\"time\") >= START_TIME)"
   ]
  },
  {
   "cell_type": "code",
   "execution_count": null,
   "metadata": {},
   "outputs": [],
   "source": [
    "df_cow_aggregate = combine_with_prices(df_cow_filtered, df_token0_prices, df_token1_prices)\n",
    "df_balancer_aggregate = combine_with_prices(df_balancer_filtered, df_token0_prices, df_token1_prices)"
   ]
  },
  {
   "cell_type": "code",
   "execution_count": null,
   "metadata": {},
   "outputs": [],
   "source": [
    "profit_vs_holding_cow = compute_profit_vs_holding_apy(df_cow_aggregate)\n",
    "print(f\"APY of CoW AMM: {profit_vs_holding_cow}\")\n",
    "\n",
    "protocol_fee_correction = (\n",
    "    1\n",
    "    + PROTOCOL_FEE_WEI\n",
    "    / 10**18\n",
    "    * df_cow_aggregate[\"price_\"+TOKEN0][-1]\n",
    "    / df_cow_aggregate[\"total_value\"][-1]\n",
    ")\n",
    "profit_vs_holding_cow = compute_profit_vs_holding_apy(\n",
    "    df_cow_aggregate, protocol_fee_correction\n",
    ")\n",
    "print(f\"APY of CoW AMM (without paying protocol fees): {profit_vs_holding_cow}\")\n",
    "\n",
    "profit_vs_holding_balancer = compute_profit_vs_holding_apy(df_balancer_aggregate)\n",
    "print(f\"APY of Balancer AMM: {profit_vs_holding_balancer}\")"
   ]
  },
  {
   "cell_type": "code",
   "execution_count": null,
   "metadata": {},
   "outputs": [],
   "source": [
    "trade_fraction = len(df_cow_filtered) / len(df_balancer_filtered)\n",
    "volume_fraction = (\n",
    "    df_cow_aggregate.with_columns(\n",
    "        pl.col(\"value_\"+TOKEN0).diff().abs().sum().alias(\"volume\")\n",
    "    )[\"volume\"][0]\n",
    "    / df_balancer_aggregate.with_columns(\n",
    "        pl.col(\"value_\"+TOKEN0).diff().abs().sum().alias(\"volume\")\n",
    "    )[\"volume\"][0]\n",
    ")\n",
    "tvl_fraction = (\n",
    "    df_cow_aggregate[\"total_value\"][-1] / df_balancer_aggregate[\"total_value\"][-1]\n",
    ")\n",
    "print(f\"number of trades of CoW AMM vs balancer {trade_fraction * 100:2.1f}%\")\n",
    "print(f\"volume of CoW AMM vs balancer {volume_fraction * 100:2.1f}%\")\n",
    "print(f\"TVL of CoW AMM vs balancer {tvl_fraction * 100:2.1f}%\")"
   ]
  },
  {
   "cell_type": "code",
   "execution_count": null,
   "metadata": {},
   "outputs": [],
   "source": [
    "plt1 = plot_profit_vs_holding(df_cow_aggregate).relabel(\"cow amm\")\n",
    "plt2 = plot_profit_vs_holding(df_balancer_aggregate).relabel(\"balancer\")\n",
    "(plt1 * plt2).opts(legend_position=\"top_left\", title=\"profit vs holding comparison\")"
   ]
  },
  {
   "cell_type": "code",
   "execution_count": null,
   "metadata": {},
   "outputs": [],
   "source": [
    "plt1 = (\n",
    "    df_token1_prices_in_eth.filter(pl.col(\"time\") >= START_TIME)\n",
    "    .with_columns(pl.from_epoch(\"time\", time_unit=\"s\"))\n",
    "    .sort(\"time\")\n",
    "    .plot(x=\"time\", y=\"price\", label=\"price of \"+TOKEN1+\" in ETH\")\n",
    ")\n",
    "plt2 = (\n",
    "    df_token1_prices_in_eth.filter(pl.col(\"time\") >= START_TIME)\n",
    "    .with_columns(pl.from_epoch(\"time\", time_unit=\"s\"))\n",
    "    .sort(\"time\")\n",
    "    .with_columns(\n",
    "        pl.col(\"price\")\n",
    "        .rolling_var(by=\"time\", window_size=\"12h\")\n",
    "        .alias(\"price_variance\")\n",
    "    )\n",
    "    .plot(x=\"time\", y=\"price_variance\", label=\"price variance of \"+TOKEN1+\" in ETH\")\n",
    ")\n",
    "plt1 + plt2"
   ]
  },
  {
   "cell_type": "code",
   "execution_count": null,
   "metadata": {},
   "outputs": [],
   "source": []
  }
 ],
 "metadata": {
  "kernelspec": {
   "display_name": "Python 3",
   "language": "python",
   "name": "python3"
  },
  "language_info": {
   "codemirror_mode": {
    "name": "ipython",
    "version": 3
   },
   "file_extension": ".py",
   "mimetype": "text/x-python",
   "name": "python",
   "nbconvert_exporter": "python",
   "pygments_lexer": "ipython3",
   "version": "3.12.1"
  }
 },
 "nbformat": 4,
 "nbformat_minor": 2
}
