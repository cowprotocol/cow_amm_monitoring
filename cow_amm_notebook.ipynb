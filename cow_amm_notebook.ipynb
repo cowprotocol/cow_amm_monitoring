{
 "cells": [
  {
   "cell_type": "code",
   "execution_count": null,
   "metadata": {},
   "outputs": [],
   "source": [
    "import polars as pl\n",
    "import numpy as np\n",
    "import holoviews as hv\n",
    "from time import time\n",
    "\n",
    "from cow_amm_trades import compute_cow_amm_trades\n",
    "from balancer_pool_states import compute_balancer_pool_states\n",
    "from coingecko import get_historical_token_price\n",
    "from dataframes import (\n",
    "    states_to_df,\n",
    "    prices_to_df,\n",
    "    combine_with_prices,\n",
    "    plot_profit_vs_holding,\n",
    "    compute_profit_vs_holding_apy,\n",
    ")"
   ]
  },
  {
   "cell_type": "code",
   "execution_count": null,
   "metadata": {},
   "outputs": [],
   "source": [
    "cow_amm_states = compute_cow_amm_trades()\n",
    "balancer_pool_states = compute_balancer_pool_states()"
   ]
  },
  {
   "cell_type": "code",
   "execution_count": null,
   "metadata": {},
   "outputs": [],
   "source": [
    "df_cow = states_to_df(cow_amm_states)\n",
    "df_balancer = states_to_df(balancer_pool_states)"
   ]
  },
  {
   "cell_type": "code",
   "execution_count": null,
   "metadata": {},
   "outputs": [],
   "source": [
    "weth_prices = get_historical_token_price(\"ethereum\")\n",
    "cow_prices = get_historical_token_price(\"cow-protocol\")\n",
    "cow_price_in_eth = get_historical_token_price(\"cow-protocol\", currency=\"eth\")\n",
    "\n",
    "df_weth_prices = prices_to_df(weth_prices)\n",
    "df_cow_prices = prices_to_df(cow_prices)\n",
    "df_cow_prices_in_eth = prices_to_df(cow_price_in_eth)"
   ]
  },
  {
   "cell_type": "code",
   "execution_count": null,
   "metadata": {},
   "outputs": [],
   "source": [
    "time_now = time()\n",
    "start_time = 1712564737\n",
    "end_time = 1713171275\n",
    "protocol_fee_wei = 89264911874766030\n",
    "df_cow_filtered = df_cow.filter((pl.col(\"time\") >= start_time) & (pl.col(\"time\") <= end_time))\n",
    "df_balancer_filtered = df_balancer.filter((pl.col(\"time\") >= start_time) & (pl.col(\"time\") <= end_time))"
   ]
  },
  {
   "cell_type": "code",
   "execution_count": null,
   "metadata": {},
   "outputs": [],
   "source": [
    "df_cow_aggregate = combine_with_prices(df_cow_filtered, df_weth_prices, df_cow_prices)\n",
    "df_balancer_aggregate = combine_with_prices(df_balancer_filtered, df_weth_prices, df_cow_prices)"
   ]
  },
  {
   "cell_type": "code",
   "execution_count": null,
   "metadata": {},
   "outputs": [],
   "source": [
    "profit_vs_holding_cow = compute_profit_vs_holding_apy(df_cow_aggregate)\n",
    "print(f\"APY of CoW AMM: {profit_vs_holding_cow}\")\n",
    "\n",
    "protocol_fee_correction = (\n",
    "    1\n",
    "    + protocol_fee_wei\n",
    "    / 10**18\n",
    "    * df_cow_aggregate[\"price_weth\"][-1]\n",
    "    / df_cow_aggregate[\"total_value\"][-1]\n",
    ")\n",
    "profit_vs_holding_cow = compute_profit_vs_holding_apy(\n",
    "    df_cow_aggregate, protocol_fee_correction\n",
    ")\n",
    "print(f\"APY of CoW AMM (without paying protocol fees): {profit_vs_holding_cow}\")\n",
    "\n",
    "profit_vs_holding_balancer = compute_profit_vs_holding_apy(df_balancer_aggregate)\n",
    "print(f\"APY of Balancer AMM: {profit_vs_holding_balancer}\")"
   ]
  },
  {
   "cell_type": "code",
   "execution_count": null,
   "metadata": {},
   "outputs": [],
   "source": [
    "trade_fraction = len(df_cow_filtered) / len(df_balancer_filtered)\n",
    "volume_fraction = (\n",
    "    df_cow_aggregate.with_columns(\n",
    "        pl.col(\"value_weth\").diff().abs().sum().alias(\"volume\")\n",
    "    )[\"volume\"][0]\n",
    "    / df_balancer_aggregate.with_columns(\n",
    "        pl.col(\"value_weth\").diff().abs().sum().alias(\"volume\")\n",
    "    )[\"volume\"][0]\n",
    ")\n",
    "tvl_fraction = (\n",
    "    df_cow_aggregate[\"total_value\"][-1] / df_balancer_aggregate[\"total_value\"][-1]\n",
    ")\n",
    "print(f\"number of trades of CoW AMM vs balancer {trade_fraction * 100:2.1f}%\")\n",
    "print(f\"volume of CoW AMM vs balancer {volume_fraction * 100:2.1f}%\")\n",
    "print(f\"TVL of CoW AMM vs balancer {tvl_fraction * 100:2.1f}%\")"
   ]
  },
  {
   "cell_type": "code",
   "execution_count": null,
   "metadata": {},
   "outputs": [],
   "source": [
    "plt1 = plot_profit_vs_holding(df_cow_aggregate).relabel(\"cow amm\")\n",
    "plt2 = plot_profit_vs_holding(df_balancer_aggregate).relabel(\"balancer\")\n",
    "(plt1 * plt2).opts(legend_position=\"top_left\", title=\"profid vs holding comparison\")"
   ]
  },
  {
   "cell_type": "code",
   "execution_count": null,
   "metadata": {},
   "outputs": [],
   "source": [
    "plt1 = (\n",
    "    df_cow_prices_in_eth.filter(pl.col(\"time\") >= start_time)\n",
    "    .with_columns(pl.from_epoch(\"time\", time_unit=\"s\"))\n",
    "    .sort(\"time\")\n",
    "    .plot(x=\"time\", y=\"price\", label=\"price of COW in ETH\")\n",
    ")\n",
    "plt2 = (\n",
    "    df_cow_prices_in_eth.filter(pl.col(\"time\") >= start_time)\n",
    "    .with_columns(pl.from_epoch(\"time\", time_unit=\"s\"))\n",
    "    .sort(\"time\")\n",
    "    .with_columns(\n",
    "        pl.col(\"price\")\n",
    "        .rolling_var(by=\"time\", window_size=\"12h\")\n",
    "        .alias(\"price_variance\")\n",
    "    )\n",
    "    .plot(x=\"time\", y=\"price_variance\", label=\"price variance of COW in ETH\")\n",
    ")\n",
    "plt1 + plt2"
   ]
  },
  {
   "cell_type": "code",
   "execution_count": null,
   "metadata": {},
   "outputs": [],
   "source": []
  }
 ],
 "metadata": {
  "kernelspec": {
   "display_name": "Python 3",
   "language": "python",
   "name": "python3"
  },
  "language_info": {
   "codemirror_mode": {
    "name": "ipython",
    "version": 3
   },
   "file_extension": ".py",
   "mimetype": "text/x-python",
   "name": "python",
   "nbconvert_exporter": "python",
   "pygments_lexer": "ipython3",
   "version": "3.12.2"
  }
 },
 "nbformat": 4,
 "nbformat_minor": 2
}
